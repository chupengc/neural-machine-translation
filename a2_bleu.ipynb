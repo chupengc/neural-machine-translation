{
 "cells": [
  {
   "cell_type": "code",
   "execution_count": 1,
   "metadata": {},
   "outputs": [],
   "source": [
    "from math import exp  # exp(x) gives e^x"
   ]
  },
  {
   "cell_type": "code",
   "execution_count": 2,
   "metadata": {},
   "outputs": [],
   "source": [
    "def grouper(seq, n):\n",
    "    \"\"\"Get all n-grams from a sequence\n",
    "\n",
    "    An n-gram is a contiguous sub-sequence within `seq` of length `n`. This\n",
    "    function extracts them (in order) from `seq`.\n",
    "\n",
    "    Parameters\n",
    "    ----------\n",
    "    seq : sequence\n",
    "        A sequence of token ids or words representing a transcription.\n",
    "    n : int\n",
    "        The size of sub-sequence to extract.\n",
    "\n",
    "    Returns\n",
    "    -------\n",
    "    ngrams : list\n",
    "    \"\"\"\n",
    "    ngrams = []\n",
    "\n",
    "    for i in range(len(seq) - n + 1):\n",
    "        ngrams.append(seq[i:i + n])\n",
    "\n",
    "    return ngrams"
   ]
  },
  {
   "cell_type": "code",
   "execution_count": 3,
   "metadata": {},
   "outputs": [],
   "source": [
    "seq = [\"hello\", \"how\", \"are\", \"you\", \"today\"]"
   ]
  },
  {
   "cell_type": "code",
   "execution_count": 4,
   "metadata": {},
   "outputs": [
    {
     "data": {
      "text/plain": [
       "[['hello', 'how'], ['how', 'are'], ['are', 'you'], ['you', 'today']]"
      ]
     },
     "execution_count": 4,
     "metadata": {},
     "output_type": "execute_result"
    }
   ],
   "source": [
    "grouper(seq, 2)"
   ]
  },
  {
   "cell_type": "code",
   "execution_count": 5,
   "metadata": {},
   "outputs": [
    {
     "data": {
      "text/plain": [
       "[['hello', 'how', 'are'], ['how', 'are', 'you'], ['are', 'you', 'today']]"
      ]
     },
     "execution_count": 5,
     "metadata": {},
     "output_type": "execute_result"
    }
   ],
   "source": [
    "grouper(seq, 3)"
   ]
  },
  {
   "cell_type": "code",
   "execution_count": 6,
   "metadata": {},
   "outputs": [],
   "source": [
    "seq2 = [0, 1, 2, 3, 4, 5]"
   ]
  },
  {
   "cell_type": "code",
   "execution_count": 7,
   "metadata": {},
   "outputs": [
    {
     "data": {
      "text/plain": [
       "[[0, 1, 2], [1, 2, 3], [2, 3, 4], [3, 4, 5]]"
      ]
     },
     "execution_count": 7,
     "metadata": {},
     "output_type": "execute_result"
    }
   ],
   "source": [
    "grouper(seq2, 3)"
   ]
  },
  {
   "cell_type": "code",
   "execution_count": 17,
   "metadata": {},
   "outputs": [],
   "source": [
    "def n_gram_precision(reference, candidate, n):\n",
    "    \"\"\"Compute the precision for a given order of n-gram\n",
    "\n",
    "    Parameters\n",
    "    ----------\n",
    "    reference : sequence\n",
    "        The reference transcription. A sequence of token ids or words.\n",
    "    candidate : sequence\n",
    "        The candidate transcription. A sequence of token ids or words\n",
    "        (whichever is used by `reference`)\n",
    "    n : int\n",
    "        The order of n-gram precision to calculate\n",
    "\n",
    "    Returns\n",
    "    -------\n",
    "    p_n : float\n",
    "        The n-gram precision. In the case that the candidate has length 0,\n",
    "        `p_n` is 0.\n",
    "    \"\"\"\n",
    "    total = len(grouper(candidate, n))\n",
    "    count = 0\n",
    "\n",
    "    for ngram in grouper(candidate, n):\n",
    "        if ngram in grouper(reference, n):\n",
    "            count += 1\n",
    "\n",
    "    return count / total"
   ]
  },
  {
   "cell_type": "code",
   "execution_count": 18,
   "metadata": {},
   "outputs": [],
   "source": [
    "ref = [\"how\", \"are\", \"you\", \"doing\", \"today\"]"
   ]
  },
  {
   "cell_type": "code",
   "execution_count": 22,
   "metadata": {},
   "outputs": [
    {
     "data": {
      "text/plain": [
       "0.0"
      ]
     },
     "execution_count": 22,
     "metadata": {},
     "output_type": "execute_result"
    }
   ],
   "source": [
    "n_gram_precision(ref, seq, 4)"
   ]
  },
  {
   "cell_type": "code",
   "execution_count": 23,
   "metadata": {},
   "outputs": [],
   "source": [
    "def brevity_penalty(reference, candidate):\n",
    "    \"\"\"Calculate the brevity penalty between a reference and candidate\n",
    "\n",
    "    Parameters\n",
    "    ----------\n",
    "    reference : sequence\n",
    "        The reference transcription. A sequence of token ids or words.\n",
    "    candidate : sequence\n",
    "        The candidate transcription. A sequence of token ids or words\n",
    "        (whichever is used by `reference`)\n",
    "\n",
    "    Returns\n",
    "    -------\n",
    "    BP : float\n",
    "        The brevity penalty. In the case that the candidate transcription is\n",
    "        of 0 length, `BP` is 0.\n",
    "    \"\"\"\n",
    "    c = len(candidate)\n",
    "    r = len(reference)\n",
    "    brevity = r / c if c != 0 else 0\n",
    "    if brevity == 0:\n",
    "        return 0\n",
    "    BP = 1 if brevity < 1 else exp(1 - brevity)\n",
    "    \n",
    "    return BP"
   ]
  },
  {
   "cell_type": "code",
   "execution_count": 33,
   "metadata": {},
   "outputs": [],
   "source": [
    "s1 = \"It is a guide to action that ensures that the military will forever heed Party commands\"\n",
    "s2 = \"It is the guiding principle which guarantees the military forces always being under command of the Party\"\n",
    "s3 = \"It is the practical guide for the army always to heed the directions of the party\""
   ]
  },
  {
   "cell_type": "code",
   "execution_count": 29,
   "metadata": {},
   "outputs": [],
   "source": [
    "def seq_gen(sent):\n",
    "    return sent.split()"
   ]
  },
  {
   "cell_type": "code",
   "execution_count": 35,
   "metadata": {},
   "outputs": [],
   "source": [
    "ref1 = seq_gen(s1)\n",
    "ref2 = seq_gen(s2)\n",
    "ref3 = seq_gen(s3)"
   ]
  },
  {
   "cell_type": "code",
   "execution_count": 46,
   "metadata": {},
   "outputs": [],
   "source": [
    "q1 = \"It is a guide to action which ensures that the military always obeys the commands of the party\"\n",
    "q2 = \"It is to insure the troops forever hearing the activity guidebook that party direct\""
   ]
  },
  {
   "cell_type": "code",
   "execution_count": 47,
   "metadata": {},
   "outputs": [],
   "source": [
    "cand1 = seq_gen(q1)\n",
    "cand2 = seq_gen(q2)"
   ]
  },
  {
   "cell_type": "code",
   "execution_count": 48,
   "metadata": {},
   "outputs": [
    {
     "data": {
      "text/plain": [
       "1"
      ]
     },
     "execution_count": 48,
     "metadata": {},
     "output_type": "execute_result"
    }
   ],
   "source": [
    "brevity_penalty(ref2, cand1)"
   ]
  },
  {
   "cell_type": "code",
   "execution_count": 50,
   "metadata": {},
   "outputs": [
    {
     "data": {
      "text/plain": [
       "0.8668778997501817"
      ]
     },
     "execution_count": 50,
     "metadata": {},
     "output_type": "execute_result"
    }
   ],
   "source": [
    "brevity_penalty(ref3, cand2)"
   ]
  },
  {
   "cell_type": "code",
   "execution_count": null,
   "metadata": {},
   "outputs": [],
   "source": []
  }
 ],
 "metadata": {
  "kernelspec": {
   "display_name": "Python 3",
   "language": "python",
   "name": "python3"
  },
  "language_info": {
   "codemirror_mode": {
    "name": "ipython",
    "version": 3
   },
   "file_extension": ".py",
   "mimetype": "text/x-python",
   "name": "python",
   "nbconvert_exporter": "python",
   "pygments_lexer": "ipython3",
   "version": "3.8.3"
  }
 },
 "nbformat": 4,
 "nbformat_minor": 4
}
